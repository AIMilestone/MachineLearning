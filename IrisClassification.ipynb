{
 "cells": [
  {
   "cell_type": "markdown",
   "metadata": {
    "slideshow": {
     "slide_type": "-"
    }
   },
   "source": [
    "### Scikit-learn动手实践课\n",
    "使用Scikit-learn进行鸢尾花的分类工作，通过代码梳理机器学习的每个流程\n",
    "1. 本堂课上的代码仅仅是为了展示机器学习的每个流程步骤，很多步骤是特意安排的，比如：去掉一个类别等等。\n",
    "2. 代码可以有多种实现方式，同学们掌握了以后，可以动手用自己的方式重新实现。\n",
    "3. 同学们可以自己尝试用其他的特征，其他的分类器，对比不同的结果。\n",
    "4. 给大家留了两个课后作业，希望大家认真完成。"
   ]
  },
  {
   "cell_type": "markdown",
   "metadata": {
    "slideshow": {
     "slide_type": "-"
    }
   },
   "source": [
    "#### 1. 环境准备\n",
    "安装anaconda\n",
    "|\n",
    "#### 2. 数据准备\n",
    "本堂实践课使用的是Iris数据集，为了展现二分类效果会删掉其中的一个类别\n",
    "\n",
    "#### 3. 知识回顾\n",
    "本堂课我们详细的讲解了机器学习的整个流程，并且向大家介绍了Scikit-learn机器学习框架体系，接下来我们就通过实践来巩固这些知识点。"
   ]
  },
  {
   "cell_type": "code",
   "execution_count": 1,
   "metadata": {
    "slideshow": {
     "slide_type": "-"
    }
   },
   "outputs": [],
   "source": [
    "import numpy as np\n",
    "import pandas as pd\n",
    "import matplotlib.pyplot as plt\n",
    "\n",
    "# matplotlib绘制的图片以内嵌的方式显示\n",
    "%matplotlib inline "
   ]
  },
  {
   "cell_type": "markdown",
   "metadata": {
    "slideshow": {
     "slide_type": "-"
    }
   },
   "source": [
    "#### 4. 读取Scikit-learn已有的鸢尾花数据集   "
   ]
  },
  {
   "cell_type": "markdown",
   "metadata": {},
   "source": [
    "#### 4.1 数据集分析"
   ]
  },
  {
   "cell_type": "code",
   "execution_count": 2,
   "metadata": {},
   "outputs": [
    {
     "name": "stdout",
     "output_type": "stream",
     "text": [
      "dict_keys(['data', 'target', 'target_names', 'DESCR', 'feature_names'])\n"
     ]
    }
   ],
   "source": [
    "from sklearn import datasets\n",
    "iris_datas = datasets.load_iris() # 导入数据集\n",
    "\n",
    "print(iris_datas.keys()) # 打印输出数据集中的关键词"
   ]
  },
  {
   "cell_type": "code",
   "execution_count": 3,
   "metadata": {},
   "outputs": [
    {
     "name": "stdout",
     "output_type": "stream",
     "text": [
      "(150, 4)\n"
     ]
    }
   ],
   "source": [
    "# 打印输出特征样本的维度信息\n",
    "n_samples, n_features = iris_datas.data.shape\n",
    "print((n_samples, n_features))"
   ]
  },
  {
   "cell_type": "code",
   "execution_count": 31,
   "metadata": {},
   "outputs": [],
   "source": [
    "# 打印输出label值\n",
    "print(iris_datas.target)"
   ]
  },
  {
   "cell_type": "code",
   "execution_count": 5,
   "metadata": {},
   "outputs": [
    {
     "name": "stdout",
     "output_type": "stream",
     "text": [
      "['setosa' 'versicolor' 'virginica']\n"
     ]
    }
   ],
   "source": [
    "# 打印输出分类名称\n",
    "target_names = iris_datas.target_names\n",
    "print(target_names)"
   ]
  },
  {
   "cell_type": "code",
   "execution_count": 6,
   "metadata": {},
   "outputs": [
    {
     "name": "stdout",
     "output_type": "stream",
     "text": [
      "feature_names: ['sepal length (cm)', 'sepal width (cm)', 'petal length (cm)', 'petal width (cm)']\n"
     ]
    }
   ],
   "source": [
    "# 打印输出特征值名称\n",
    "print(\"feature_names:\",iris_datas.feature_names)"
   ]
  },
  {
   "cell_type": "code",
   "execution_count": 32,
   "metadata": {},
   "outputs": [],
   "source": [
    "# 利用pandas查看数据集中的特征情况\n",
    "iris = pd.DataFrame(iris_datas.data, columns=['SepalLength', 'SepalWidth', 'PetalLength', 'PetalWdith'])\n",
    "\n",
    "#首先查看前五行特征值\n",
    "iris.head()"
   ]
  },
  {
   "cell_type": "code",
   "execution_count": 8,
   "metadata": {},
   "outputs": [],
   "source": [
    "#归一化每个特征\n",
    "from sklearn.preprocessing import Normalizer\n",
    "iris_normal=Normalizer().fit_transform(iris_datas.data)"
   ]
  },
  {
   "cell_type": "code",
   "execution_count": 33,
   "metadata": {},
   "outputs": [],
   "source": [
    "iris = pd.DataFrame(iris_normal, columns=['SepalLength', 'SepalWidth', 'PetalLength', 'PetalWidth'])\n",
    "iris['Species'] = iris_datas.target\n",
    "\n",
    "#首先查看前五行特征值\n",
    "iris.head()"
   ]
  },
  {
   "cell_type": "code",
   "execution_count": 34,
   "metadata": {},
   "outputs": [],
   "source": [
    "#接下来我们为了方便授课与理解，暂时删掉第一个类别，只保留后两个类别的鸢尾花数据\n",
    "iris=iris[~(iris['Species'].isin(['0']))]\n",
    "\n",
    "# 同样，类别信息中也要删掉第一个类别名称\n",
    "target_names = np.delete(target_names, 0, axis=0)\n",
    "\n",
    "#打印清洗后的整个数据集\n",
    "iris"
   ]
  },
  {
   "cell_type": "code",
   "execution_count": 11,
   "metadata": {},
   "outputs": [
    {
     "data": {
      "text/plain": [
       "pandas.core.frame.DataFrame"
      ]
     },
     "execution_count": 11,
     "metadata": {},
     "output_type": "execute_result"
    }
   ],
   "source": [
    "type(iris)"
   ]
  },
  {
   "cell_type": "code",
   "execution_count": 35,
   "metadata": {},
   "outputs": [],
   "source": [
    "# 查看数据集描述性统计\n",
    "iris.describe().T"
   ]
  },
  {
   "cell_type": "code",
   "execution_count": 13,
   "metadata": {
    "scrolled": true
   },
   "outputs": [
    {
     "name": "stdout",
     "output_type": "stream",
     "text": [
      "{2: 50, 1: 50}\n"
     ]
    }
   ],
   "source": [
    "# 查看数据集分布情况，样本是否均衡\n",
    "species_count = dict(iris['Species'].value_counts())\n",
    "print(species_count)"
   ]
  },
  {
   "cell_type": "code",
   "execution_count": 36,
   "metadata": {
    "scrolled": false,
    "slideshow": {
     "slide_type": "-"
    }
   },
   "outputs": [],
   "source": [
    "import seaborn as sns\n",
    "# 特征两两对比，查看数据集中的特征值关联性信息\n",
    "sns.pairplot(iris, hue=\"Species\", palette=\"husl\",diag_kind=\"kde\",size=3)"
   ]
  },
  {
   "cell_type": "code",
   "execution_count": 37,
   "metadata": {},
   "outputs": [],
   "source": [
    "# 根据上述两两对比的结果，选择 SepalLength 和 SepalWidth两个特征，作为分类的依据\n",
    "# 再次打印查看这两个特征的相关性\n",
    "sns.FacetGrid(iris, hue=\"Species\", size=5).map(plt.scatter, \"PetalWidth\", \"PetalLength\").add_legend()"
   ]
  },
  {
   "cell_type": "code",
   "execution_count": 45,
   "metadata": {},
   "outputs": [],
   "source": [
    "data_n = ['SepalLength','SepalWidth','PetalLength', 'PetalWidth']\n",
    "X = pd.DataFrame(iris,columns = data_n).as_matrix()\n",
    "Y = iris['Species'].as_matrix()"
   ]
  },
  {
   "cell_type": "code",
   "execution_count": 17,
   "metadata": {},
   "outputs": [],
   "source": [
    "# 作业：学习Scikit-learn里面的PCA函数使用方法，自己实现PCA降维操作，并将结果应用与分类实验\n",
    "\n"
   ]
  },
  {
   "cell_type": "code",
   "execution_count": 18,
   "metadata": {},
   "outputs": [],
   "source": [
    "# 那我们不妨先使用'PetalLength'和'PetalWidth'来尝试分类\n",
    "X = X[:, 2:4]\n",
    "Y = np.array(Y)"
   ]
  },
  {
   "cell_type": "markdown",
   "metadata": {
    "slideshow": {
     "slide_type": "-"
    }
   },
   "source": [
    "#### 4.2 数据集拆分"
   ]
  },
  {
   "cell_type": "code",
   "execution_count": 19,
   "metadata": {
    "slideshow": {
     "slide_type": "-"
    }
   },
   "outputs": [
    {
     "data": {
      "text/plain": [
       "((70, 2), (70,), (30, 2), (30,))"
      ]
     },
     "execution_count": 19,
     "metadata": {},
     "output_type": "execute_result"
    }
   ],
   "source": [
    "# 将数据集划分为 训练集和验证集\n",
    "# rain_test_split(*arrays, **options)\n",
    "from sklearn.model_selection import train_test_split\n",
    "\n",
    "X_train, X_val, Y_train, Y_val = train_test_split(X, Y, test_size=0.3, random_state=0)\n",
    "X_train.shape,Y_train.shape,X_val.shape, Y_val.shape"
   ]
  },
  {
   "cell_type": "markdown",
   "metadata": {
    "slideshow": {
     "slide_type": "-"
    }
   },
   "source": [
    "#### 5. 模型选择\n",
    "- 拟合模型\n",
    "model.fit(X_train, Y_train)\n",
    "- 模型预测\n",
    "model.predict(X_val)"
   ]
  },
  {
   "cell_type": "markdown",
   "metadata": {},
   "source": [
    "导入模型，调用逻辑回归LogisticRegression()函数尝试一下"
   ]
  },
  {
   "cell_type": "code",
   "execution_count": 38,
   "metadata": {
    "scrolled": true,
    "slideshow": {
     "slide_type": "-"
    }
   },
   "outputs": [],
   "source": [
    "from sklearn.linear_model import LogisticRegression\n",
    "\n",
    "# 选择模型,使用LogisticRegression考察模型的分类预测能力\n",
    "cls = LogisticRegression(C=1e5)\n",
    "\n",
    "#训练LogisticRegression分类器\n",
    "#调用fit(，x,y)的方法来训练模型其中X_train为数据的属性，Y_train为所属类型。\n",
    "cls.fit(X_train, Y_train)"
   ]
  },
  {
   "cell_type": "code",
   "execution_count": 21,
   "metadata": {},
   "outputs": [],
   "source": [
    "# 利用训练得到的模型对数据集进行预测 predict()，返回预测结果\n",
    "Y_pred = cls.predict(X_val)"
   ]
  },
  {
   "cell_type": "markdown",
   "metadata": {
    "slideshow": {
     "slide_type": "-"
    }
   },
   "source": [
    "#### 6. 模型评估与误差分析"
   ]
  },
  {
   "cell_type": "code",
   "execution_count": 22,
   "metadata": {},
   "outputs": [
    {
     "name": "stdout",
     "output_type": "stream",
     "text": [
      "Logistic Regression模型训练集的准确率：0.971\n",
      "Logistic Regression模型验证集的准确率：0.967\n"
     ]
    }
   ],
   "source": [
    "# 先来看一下训练样本以及验证样本的准确率\n",
    "print(\"Logistic Regression模型训练集的准确率：%.3f\" %cls.score(X_train, Y_train))\n",
    "print(\"Logistic Regression模型验证集的准确率：%.3f\" %cls.score(X_val, Y_val))"
   ]
  },
  {
   "cell_type": "code",
   "execution_count": 40,
   "metadata": {},
   "outputs": [],
   "source": [
    "# 导入混淆矩阵函数\n",
    "from sklearn import metrics\n",
    "from sklearn.metrics import confusion_matrix \n",
    "# 生成混淆矩阵\n",
    "cm = confusion_matrix(Y_val, Y_pred)\n",
    "# 画混淆矩阵图\n",
    "plt.matshow(cm, cmap=plt.cm.Greens)\n",
    "plt.colorbar() #颜色标签\n",
    "\n",
    "for x in range(len(cm)): #数据标签\n",
    "    for y in range(len(cm)):\n",
    "        plt.annotate(cm[x,y], xy=(y, x), horizontalalignment='center',verticalalignment='center')\n",
    "\n",
    "plt.ylabel('True label') #坐标轴标签\n",
    "plt.xlabel('Predicted label') #坐标轴标签\n",
    "\n",
    "plt.show()"
   ]
  },
  {
   "cell_type": "code",
   "execution_count": 41,
   "metadata": {},
   "outputs": [],
   "source": [
    "# 再来看一下各个指标参数\n",
    "print(metrics.classification_report(Y_val, Y_pred, target_names = target_names))"
   ]
  },
  {
   "cell_type": "code",
   "execution_count": 42,
   "metadata": {},
   "outputs": [],
   "source": [
    "from matplotlib import colors\n",
    "import matplotlib as mpl\n",
    "\n",
    "cls.fit(X_train,Y_train)\n",
    "\n",
    "# 绘制图像\n",
    "# 1.确定坐标轴范围，x，y轴分别表示两个特征\n",
    "x1_min, x1_max = X_train[:, 0].min(), X_train[:, 0].max()  # 第0列的范围\n",
    "x2_min, x2_max = X_train[:, 1].min(), X_train[:, 1].max()  # 第1列的范围\n",
    "x1, x2 = np.mgrid[x1_min:x1_max:200j, x2_min:x2_max:200j]  # 生成网格采样点\n",
    "grid_test = np.stack((x1.flat, x2.flat), axis=1)  # 测试点\n",
    "\n",
    "grid_hat = cls.predict(grid_test)       # 预测分类值\n",
    "grid_hat = grid_hat.reshape(x1.shape)  # 使之与输入的形状相同\n",
    "\n",
    "# 2.指定默认字体\n",
    "mpl.rcParams['font.sans-serif'] = [u'SimHei']\n",
    "mpl.rcParams['axes.unicode_minus'] = False\n",
    "\n",
    "# 3.绘制\n",
    "cm_light = mpl.colors.ListedColormap(['#A0FFA0', '#FFA0A0', '#A0A0FF'])\n",
    "cm_dark = mpl.colors.ListedColormap(['g', 'r', 'b'])\n",
    "\n",
    "plt.figure(1, figsize=(10, 5))\n",
    "plt.pcolormesh(x1, x2, grid_hat, cmap=cm_light) # 预测值的显示\n",
    "plt.scatter(X_train[:, 0], X_train[:, 1], c=Y_train, edgecolors='k', cmap=cm_dark)#样本的显示\n",
    "\n",
    "plt.xlabel(u'花瓣长度', fontsize=13)\n",
    "plt.ylabel(u'花瓣宽度', fontsize=13)\n",
    "plt.xlim(x1_min, x1_max)\n",
    "plt.ylim(x2_min, x2_max)\n",
    "plt.title(u'鸢尾花LogisticRegression训练过程分类结果', fontsize=15)\n",
    "plt.grid() #显示网格\n",
    "plt.show()"
   ]
  },
  {
   "cell_type": "code",
   "execution_count": 26,
   "metadata": {},
   "outputs": [],
   "source": [
    "# 作业：根据上述代码，自己实现一下验证集的分类情况\n",
    "\n",
    "\n"
   ]
  },
  {
   "cell_type": "code",
   "execution_count": 43,
   "metadata": {},
   "outputs": [],
   "source": [
    "# 绘制该模型的ROC曲线并求解AUC\n",
    "\n",
    "from sklearn.metrics import roc_curve, auc\n",
    "\n",
    "false_positive_rate, true_positive_rate, thresholds = roc_curve(Y_val.tolist(), Y_pred.tolist(),pos_label=2)\n",
    "roc_auc = auc(false_positive_rate, true_positive_rate)\n",
    "\n",
    "plt.figure(1, figsize=(10, 5))\n",
    "plt.title('两种鸢尾花的分类ROC图以及AUC值')\n",
    "plt.plot(false_positive_rate, true_positive_rate, 'b',label='AUC = %0.2f'% roc_auc)\n",
    "plt.legend(loc='lower right')\n",
    "plt.plot([0,1],[0,1],'r--')\n",
    "plt.xlim([0,1])\n",
    "plt.ylim([0,1])\n",
    "plt.ylabel('True Positive Rate')\n",
    "plt.xlabel('False Positive Rate')\n",
    "plt.show()\n",
    " "
   ]
  },
  {
   "cell_type": "markdown",
   "metadata": {
    "slideshow": {
     "slide_type": "-"
    }
   },
   "source": [
    "#### 保存模型"
   ]
  },
  {
   "cell_type": "code",
   "execution_count": 28,
   "metadata": {
    "slideshow": {
     "slide_type": "-"
    }
   },
   "outputs": [],
   "source": [
    "import pickle\n",
    "\n",
    "# 保存模型\n",
    "with open('model.pickle', 'wb') as f:\n",
    "    pickle.dump(cls, f)"
   ]
  },
  {
   "cell_type": "code",
   "execution_count": 29,
   "metadata": {
    "slideshow": {
     "slide_type": "-"
    }
   },
   "outputs": [],
   "source": [
    "# 读取模型\n",
    "with open('model.pickle', 'rb') as f:\n",
    "    model = pickle.load(f)\n"
   ]
  },
  {
   "cell_type": "code",
   "execution_count": 44,
   "metadata": {
    "slideshow": {
     "slide_type": "-"
    }
   },
   "outputs": [],
   "source": [
    "#使用读取的模型进行预测\n",
    "model.predict(X_val)"
   ]
  },
  {
   "cell_type": "code",
   "execution_count": null,
   "metadata": {},
   "outputs": [],
   "source": []
  }
 ],
 "metadata": {
  "celltoolbar": "Raw Cell Format",
  "kernelspec": {
   "display_name": "Python 3",
   "language": "python",
   "name": "python3"
  },
  "language_info": {
   "codemirror_mode": {
    "name": "ipython",
    "version": 3
   },
   "file_extension": ".py",
   "mimetype": "text/x-python",
   "name": "python",
   "nbconvert_exporter": "python",
   "pygments_lexer": "ipython3",
   "version": "3.6.5"
  }
 },
 "nbformat": 4,
 "nbformat_minor": 2
}
